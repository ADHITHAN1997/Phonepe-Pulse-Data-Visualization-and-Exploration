{
 "cells": [
  {
   "cell_type": "code",
   "execution_count": 1,
   "metadata": {},
   "outputs": [],
   "source": [
    "# import packages\n",
    "import os\n",
    "import json\n",
    "import pandas as pd\n",
    "import pymysql\n",
    "import plotly.express as px\n",
    "import requests\n",
    "import streamlit as st\n",
    "from streamlit_option_menu import option_menu"
   ]
  },
  {
   "cell_type": "code",
   "execution_count": 2,
   "metadata": {},
   "outputs": [],
   "source": [
    "#mysql connection\n",
    "connection = pymysql.connect(\n",
    "host=\"localhost\",\n",
    "user=\"root\",\n",
    "password=\"adhi\",\n",
    "database=\"phonepe\"\n",
    ")\n",
    "connect_data=connection.cursor()"
   ]
  },
  {
   "cell_type": "markdown",
   "metadata": {},
   "source": [
    "### Retrive the datas in phonepe files"
   ]
  },
  {
   "cell_type": "code",
   "execution_count": 3,
   "metadata": {},
   "outputs": [],
   "source": [
    "#aggregated insurance\n",
    "aggre_connect1=\"C:/Users/study/Downloads/vs code/phonepe/pulse/data/aggregated/insurance/country/india/state/\"\n",
    "aggre_insu_list=os.listdir(aggre_connect1)\n",
    "\n",
    "\n",
    "aggre_columns1={\"states\":[],\"Years\":[],\"Quarter\":[],\"Transaction_type\":[],\"Transaction_count\":[],\"Transaction_amount\":[]}\n",
    "for state in aggre_insu_list:\n",
    "    cur_states=aggre_connect1+state+\"/\"\n",
    "    year_list=os.listdir(cur_states)\n",
    "    \n",
    "    for year in year_list:\n",
    "        cur_year=cur_states+year+\"/\"\n",
    "        file_list=os.listdir(cur_year)\n",
    "\n",
    "        for file in file_list:\n",
    "            all_files=cur_year+file\n",
    "            data=open(all_files,\"r\")\n",
    "            ai=json.load(data)\n",
    "\n",
    "            for i in ai[\"data\"][\"transactionData\"]:\n",
    "                name=i[\"name\"]\n",
    "                count=i[\"paymentInstruments\"][0][\"count\"]\n",
    "                amount=i[\"paymentInstruments\"][0][\"amount\"]\n",
    "                aggre_columns1[\"Transaction_type\"].append(name)\n",
    "                aggre_columns1[\"Transaction_count\"].append(count)\n",
    "                aggre_columns1[\"Transaction_amount\"].append(amount)\n",
    "                aggre_columns1[\"states\"].append(state)\n",
    "                aggre_columns1[\"Years\"].append(year)\n",
    "                aggre_columns1[\"Quarter\"].append(int(file.strip(\".json\")))\n",
    "                \n",
    "aggre_insurance=pd.DataFrame(aggre_columns1)\n",
    "\n",
    "aggre_insurance[\"states\"]=aggre_insurance[\"states\"].str.replace(\"andaman-&-nicobar-islands\",'Andaman & Nicobar')\n",
    "aggre_insurance[\"states\"]=aggre_insurance[\"states\"].str.replace('-',' ')\n",
    "aggre_insurance[\"states\"]=aggre_insurance[\"states\"].str.title()\n",
    "aggre_insurance[\"states\"]=aggre_insurance[\"states\"].str.replace('Dadra & Nagar Haveli & Daman & Diu','Dadra and Nagar Haveli and Daman and Diu')"
   ]
  },
  {
   "cell_type": "code",
   "execution_count": null,
   "metadata": {},
   "outputs": [],
   "source": [
    "aggre_insurance"
   ]
  },
  {
   "cell_type": "code",
   "execution_count": 5,
   "metadata": {},
   "outputs": [],
   "source": [
    "#aggregate_transaction\n",
    "aggre_connect2=\"C:/Users\\study/Downloads/vs code/phonepe/pulse/data/aggregated/transaction/country/india/state/\"\n",
    "aggre_tran_list=os.listdir(aggre_connect2)\n",
    "\n",
    "aggre_columns2={\"states\":[],\"Years\":[],\"Quarter\":[],\"Transaction_type\":[],\"Transaction_count\":[],\"Transaction_amount\":[]}\n",
    "\n",
    "for state in aggre_tran_list:\n",
    "    cur_states=aggre_connect2+state+\"/\"\n",
    "    year_list=os.listdir(cur_states)\n",
    "    \n",
    "    for year in year_list:\n",
    "        cur_year=cur_states+year+\"/\"\n",
    "        file_list=os.listdir(cur_year)\n",
    "\n",
    "        for file in file_list:\n",
    "            all_files=cur_year+file\n",
    "            data=open(all_files,\"r\")\n",
    "            at=json.load(data)\n",
    "\n",
    "            for i in at[\"data\"][\"transactionData\"]:\n",
    "                name=i[\"name\"]\n",
    "                count=i[\"paymentInstruments\"][0][\"count\"]\n",
    "                amount=i[\"paymentInstruments\"][0][\"amount\"]\n",
    "                aggre_columns2[\"Transaction_type\"].append(name)\n",
    "                aggre_columns2[\"Transaction_count\"].append(count)\n",
    "                aggre_columns2[\"Transaction_amount\"].append(amount)\n",
    "                aggre_columns2[\"states\"].append(state)\n",
    "                aggre_columns2[\"Years\"].append(year)\n",
    "                aggre_columns2[\"Quarter\"].append(int(file.strip(\".json\")))\n",
    "\n",
    "aggre_transaction=pd.DataFrame(aggre_columns2)\n",
    "\n",
    "aggre_transaction[\"states\"]=aggre_transaction[\"states\"].str.replace(\"andaman-&-nicobar-islands\",'Andaman & Nicobar')\n",
    "aggre_transaction[\"states\"]=aggre_transaction[\"states\"].str.replace('-',' ')\n",
    "aggre_transaction[\"states\"]=aggre_transaction[\"states\"].str.title()\n",
    "aggre_transaction[\"states\"]=aggre_transaction[\"states\"].str.replace('Dadra & Nagar Haveli & Daman & Diu','Dadra and Nagar Haveli and Daman and Diu')"
   ]
  },
  {
   "cell_type": "code",
   "execution_count": null,
   "metadata": {},
   "outputs": [],
   "source": [
    "aggre_transaction"
   ]
  },
  {
   "cell_type": "code",
   "execution_count": 7,
   "metadata": {},
   "outputs": [],
   "source": [
    "#aggregate_user\n",
    "aggre_connect3=\"C:/Users/study/Downloads/vs code/phonepe/pulse/data/aggregated/user/country/india/state/\"\n",
    "agg_user_list=os.listdir(aggre_connect3)\n",
    "\n",
    "aggre_columns3={\"states\":[],\"Years\":[],\"Quarter\":[],\"Brands\":[],\"Transaction_count\":[],\"Precentage\":[]}\n",
    "\n",
    "for state in agg_user_list:\n",
    "    cur_states=aggre_connect3+state+\"/\"\n",
    "    year_list=os.listdir(cur_states)\n",
    "    \n",
    "    for year in year_list:\n",
    "        cur_year=cur_states+year+\"/\"\n",
    "        file_list=os.listdir(cur_year)\n",
    "\n",
    "        for file in file_list:\n",
    "            all_files=cur_year+file\n",
    "            data=open(all_files,\"r\")\n",
    "            au=json.load(data)\n",
    "\n",
    "            try:\n",
    "                for i in au[\"data\"][\"usersByDevice\"]:\n",
    "                    brand=i[\"brand\"]\n",
    "                    count=i[\"count\"]\n",
    "                    percentage=i[\"percentage\"]\n",
    "                    aggre_columns3[\"Brands\"].append(brand)\n",
    "                    aggre_columns3[\"Transaction_count\"].append(count)\n",
    "                    aggre_columns3[\"Precentage\"].append(percentage)\n",
    "                    aggre_columns3[\"states\"].append(state)\n",
    "                    aggre_columns3[\"Years\"].append(year)\n",
    "                    aggre_columns3[\"Quarter\"].append(int(file.strip(\".json\")))\n",
    "            except:\n",
    "                pass\n",
    "\n",
    "\n",
    "aggre_user=pd.DataFrame(aggre_columns3)\n",
    "\n",
    "aggre_user[\"states\"]=aggre_user[\"states\"].str.replace(\"andaman-&-nicobar-islands\",'Andaman & Nicobar')\n",
    "aggre_user[\"states\"]=aggre_user[\"states\"].str.replace('-',' ')\n",
    "aggre_user[\"states\"]=aggre_user[\"states\"].str.title()\n",
    "aggre_user[\"states\"]=aggre_user[\"states\"].str.replace('Dadra & Nagar Haveli & Daman & Diu','Dadra and Nagar Haveli and Daman and Diu')"
   ]
  },
  {
   "cell_type": "code",
   "execution_count": null,
   "metadata": {},
   "outputs": [],
   "source": [
    "aggre_user"
   ]
  },
  {
   "cell_type": "code",
   "execution_count": 9,
   "metadata": {},
   "outputs": [],
   "source": [
    "#map insurance\n",
    "map_connect1=\"C:/Users\\study/Downloads/vs code/phonepe/pulse/data/map/insurance/hover/country/india/state/\"\n",
    "map_insu_list=os.listdir(map_connect1)\n",
    "\n",
    "map_columns1={\"states\":[],\"Years\":[],\"Quarter\":[],\"Districts\":[],\"Transaction_count\":[],\"Transaction_amount\":[]}\n",
    "\n",
    "for state in map_insu_list:\n",
    "    cur_states=map_connect1+state+\"/\"\n",
    "    year_list=os.listdir(cur_states)\n",
    "    \n",
    "    for year in year_list:\n",
    "        cur_year=cur_states+year+\"/\"\n",
    "        file_list=os.listdir(cur_year)\n",
    "\n",
    "\n",
    "\n",
    "        for file in file_list:\n",
    "            all_files=cur_year+file\n",
    "            data=open(all_files,\"r\")\n",
    "            mi=json.load(data)\n",
    "\n",
    "            for i in mi[\"data\"][\"hoverDataList\"]:\n",
    "                name=i[\"name\"]\n",
    "                count=i[\"metric\"][0][\"count\"]\n",
    "                amount=i[\"metric\"][0][\"amount\"]\n",
    "                map_columns1[\"Districts\"].append(name)\n",
    "                map_columns1[\"Transaction_count\"].append(count)\n",
    "                map_columns1[\"Transaction_amount\"].append(amount)\n",
    "                map_columns1[\"states\"].append(state)\n",
    "                map_columns1[\"Years\"].append(year)\n",
    "                map_columns1[\"Quarter\"].append(int(file.strip(\".json\")))\n",
    "\n",
    "map_insurance=pd.DataFrame(map_columns1)\n",
    "\n",
    "map_insurance[\"states\"]=map_insurance[\"states\"].str.replace(\"andaman-&-nicobar-islands\",'Andaman & Nicobar')\n",
    "map_insurance[\"states\"]=map_insurance[\"states\"].str.replace('-',' ')\n",
    "map_insurance[\"states\"]=map_insurance[\"states\"].str.title()\n",
    "map_insurance[\"states\"]=map_insurance[\"states\"].str.replace('Dadra & Nagar Haveli & Daman & Diu','Dadra and Nagar Haveli and Daman and Diu')"
   ]
  },
  {
   "cell_type": "code",
   "execution_count": null,
   "metadata": {},
   "outputs": [],
   "source": [
    "map_insurance"
   ]
  },
  {
   "cell_type": "code",
   "execution_count": 11,
   "metadata": {},
   "outputs": [],
   "source": [
    "#map transanctions\n",
    "map_connect2=\"C:/Users/study/Downloads/vs code/phonepe/pulse/data/map/transaction/hover/country/india/state/\"\n",
    "map_trans_list=os.listdir(map_connect2)\n",
    "\n",
    "map_columns2={\"states\":[],\"Years\":[],\"Quarter\":[],\"Districts\":[],\"Transaction_count\":[],\"Transaction_amount\":[]}\n",
    "\n",
    "for state in map_trans_list:\n",
    "    cur_states=map_connect2+state+\"/\"\n",
    "    year_list=os.listdir(cur_states)\n",
    "    \n",
    "    for year in year_list:\n",
    "        cur_year=cur_states+year+\"/\"\n",
    "        file_list=os.listdir(cur_year)\n",
    "\n",
    "        for file in file_list:\n",
    "            all_files=cur_year+file\n",
    "            data=open(all_files,\"r\")\n",
    "            mt=json.load(data)\n",
    "\n",
    "            for i in mt[\"data\"][\"hoverDataList\"]:\n",
    "                name=i[\"name\"]\n",
    "                count=i[\"metric\"][0][\"count\"]\n",
    "                amount=i[\"metric\"][0][\"amount\"]\n",
    "                map_columns2[\"Districts\"].append(name)\n",
    "                map_columns2[\"Transaction_count\"].append(count)\n",
    "                map_columns2[\"Transaction_amount\"].append(amount)\n",
    "                map_columns2[\"states\"].append(state)\n",
    "                map_columns2[\"Years\"].append(year)\n",
    "                map_columns2[\"Quarter\"].append(int(file.strip(\".json\")))\n",
    "\n",
    "map_transanction=pd.DataFrame(map_columns2)\n",
    "\n",
    "map_transanction[\"states\"]=map_transanction[\"states\"].str.replace(\"andaman-&-nicobar-islands\",'Andaman & Nicobar')\n",
    "map_transanction[\"states\"]=map_transanction[\"states\"].str.replace('-',' ')\n",
    "map_transanction[\"states\"]=map_transanction[\"states\"].str.title()\n",
    "map_transanction[\"states\"]=map_transanction[\"states\"].str.replace('Dadra & Nagar Haveli & Daman & Diu','Dadra and Nagar Haveli and Daman and Diu')"
   ]
  },
  {
   "cell_type": "code",
   "execution_count": null,
   "metadata": {},
   "outputs": [],
   "source": [
    "map_transanction"
   ]
  },
  {
   "cell_type": "code",
   "execution_count": 13,
   "metadata": {},
   "outputs": [],
   "source": [
    "#map user\n",
    "map_connect3=\"C:/Users/study/Downloads/vs code/phonepe/pulse/data/map/user/hover/country/india/state/\"\n",
    "map_user_list=os.listdir(map_connect3)\n",
    "\n",
    "map_columns3={\"states\":[],\"Years\":[],\"Quarter\":[],\"Districts\":[],\"RegisteredUsers\":[],\"AppOpens\":[]}\n",
    "for state in map_user_list:\n",
    "    cur_states=map_connect3+state+\"/\"\n",
    "    year_list=os.listdir(cur_states)\n",
    "    \n",
    "    for year in year_list:\n",
    "        cur_year=cur_states+year+\"/\"\n",
    "        file_list=os.listdir(cur_year)\n",
    "\n",
    "        for file in file_list:\n",
    "            all_files=cur_year+file\n",
    "            data=open(all_files,\"r\")\n",
    "            mu=json.load(data)\n",
    "\n",
    "            for i in mu[\"data\"][\"hoverData\"].items():\n",
    "                district=i[0]\n",
    "                registeredUsers=i[1][\"registeredUsers\"]\n",
    "                appOpens=i[1][\"appOpens\"]\n",
    "                map_columns3[\"Districts\"].append(district)\n",
    "                map_columns3[\"RegisteredUsers\"].append(registeredUsers)\n",
    "                map_columns3[\"AppOpens\"].append(appOpens)\n",
    "                map_columns3[\"states\"].append(state)\n",
    "                map_columns3[\"Years\"].append(year)\n",
    "                map_columns3[\"Quarter\"].append(int(file.strip(\".json\")))\n",
    "         \n",
    "map_user=pd.DataFrame(map_columns3)\n",
    "\n",
    "map_user[\"states\"]=map_user[\"states\"].str.replace(\"andaman-&-nicobar-islands\",'Andaman & Nicobar')\n",
    "map_user[\"states\"]=map_user[\"states\"].str.replace('-',' ')\n",
    "map_user[\"states\"]=map_user[\"states\"].str.title()\n",
    "map_user[\"states\"]=map_user[\"states\"].str.replace('Dadra & Nagar Haveli & Daman & Diu','Dadra and Nagar Haveli and Daman and Diu')\n"
   ]
  },
  {
   "cell_type": "code",
   "execution_count": null,
   "metadata": {},
   "outputs": [],
   "source": [
    "map_user"
   ]
  },
  {
   "cell_type": "code",
   "execution_count": 15,
   "metadata": {},
   "outputs": [],
   "source": [
    "#top insurance\n",
    "\n",
    "top_connect1=\"C:/Users/study/Downloads/vs code/phonepe/pulse/data/top/insurance/country/india/state/\"\n",
    "top_insu_list=os.listdir(top_connect1)\n",
    "\n",
    "top_columns1={\"states\":[],\"Years\":[],\"Quarter\":[],\"pincodes\":[],\"Transaction_count\":[],\"Transaction_amount\":[]}\n",
    "\n",
    "for state in top_insu_list:\n",
    "    cur_states=top_connect1+state+\"/\"\n",
    "    year_list=os.listdir(cur_states)\n",
    "    \n",
    "    for year in year_list:\n",
    "        cur_year=cur_states+year+\"/\"\n",
    "        file_list=os.listdir(cur_year)\n",
    "\n",
    "        for file in file_list:\n",
    "            all_files=cur_year+file\n",
    "            data=open(all_files,\"r\")\n",
    "            ti=json.load(data)\n",
    "\n",
    "            for i in ti[\"data\"][\"pincodes\"]:\n",
    "                entityname=i[\"entityName\"]\n",
    "                count=i[\"metric\"][\"count\"]\n",
    "                amount=i[\"metric\"][\"amount\"]\n",
    "                top_columns1[\"pincodes\"].append(entityname)\n",
    "                top_columns1[\"Transaction_count\"].append(count)\n",
    "                top_columns1[\"Transaction_amount\"].append(amount)\n",
    "                top_columns1[\"states\"].append(state)\n",
    "                top_columns1[\"Years\"].append(year)\n",
    "                top_columns1[\"Quarter\"].append(int(file.strip(\".json\")))\n",
    "\n",
    "top_insurance=pd.DataFrame(top_columns1)\n",
    "\n",
    "top_insurance[\"states\"]=top_insurance[\"states\"].str.replace(\"andaman-&-nicobar-islands\",'Andaman & Nicobar')\n",
    "top_insurance[\"states\"]=top_insurance[\"states\"].str.replace('-',' ')\n",
    "top_insurance[\"states\"]=top_insurance[\"states\"].str.title()\n",
    "top_insurance[\"states\"]=top_insurance[\"states\"].str.replace('Dadra & Nagar Haveli & Daman & Diu','Dadra and Nagar Haveli and Daman and Diu')\n"
   ]
  },
  {
   "cell_type": "code",
   "execution_count": null,
   "metadata": {},
   "outputs": [],
   "source": [
    "top_insurance"
   ]
  },
  {
   "cell_type": "code",
   "execution_count": 17,
   "metadata": {},
   "outputs": [],
   "source": [
    "#top transaction\n",
    "top_connect2=\"C:/Users/study/Downloads/vs code/phonepe/pulse/data/top/transaction/country/india/state/\"\n",
    "top_trans_list=os.listdir(top_connect2)\n",
    "\n",
    "top_columns2={\"states\":[],\"Years\":[],\"Quarter\":[],\"pincodes\":[],\"Transaction_count\":[],\"Transaction_amount\":[]}\n",
    "\n",
    "for state in top_trans_list:\n",
    "    cur_states=top_connect2+state+\"/\"\n",
    "    year_list=os.listdir(cur_states)\n",
    "    \n",
    "    for year in year_list:\n",
    "        cur_year=cur_states+year+\"/\"\n",
    "        file_list=os.listdir(cur_year)\n",
    "\n",
    "        for file in file_list:\n",
    "            all_files=cur_year+file\n",
    "            data=open(all_files,\"r\")\n",
    "            tt=json.load(data)\n",
    "\n",
    "            for i in tt[\"data\"][\"pincodes\"]:\n",
    "                entityname=i[\"entityName\"]\n",
    "                count=i[\"metric\"][\"count\"]\n",
    "                amount=i[\"metric\"][\"amount\"]\n",
    "                top_columns2[\"pincodes\"].append(entityname)\n",
    "                top_columns2[\"Transaction_count\"].append(count)\n",
    "                top_columns2[\"Transaction_amount\"].append(amount)\n",
    "                top_columns2[\"states\"].append(state)\n",
    "                top_columns2[\"Years\"].append(year)\n",
    "                top_columns2[\"Quarter\"].append(int(file.strip(\".json\")))\n",
    "\n",
    "top_transaction=pd.DataFrame(top_columns2)\n",
    "\n",
    "top_transaction[\"states\"]=top_transaction[\"states\"].str.replace(\"andaman-&-nicobar-islands\",'Andaman & Nicobar')\n",
    "top_transaction[\"states\"]=top_transaction[\"states\"].str.replace('-',' ')\n",
    "top_transaction[\"states\"]=top_transaction[\"states\"].str.title()\n",
    "top_transaction[\"states\"]=top_transaction[\"states\"].str.replace('Dadra & Nagar Haveli & Daman & Diu','Dadra and Nagar Haveli and Daman and Diu')"
   ]
  },
  {
   "cell_type": "code",
   "execution_count": null,
   "metadata": {},
   "outputs": [],
   "source": [
    "top_transaction"
   ]
  },
  {
   "cell_type": "code",
   "execution_count": 19,
   "metadata": {},
   "outputs": [],
   "source": [
    "#top user\n",
    "top_connect3=\"C:/Users/study/Downloads/vs code/phonepe/pulse/data/top/user/country/india/state/\"\n",
    "top_user_list=os.listdir(top_connect3)\n",
    "\n",
    "top_columns3={\"states\":[],\"Years\":[],\"Quarter\":[],\"pincodes\":[],\"RegisteredUsers\":[]}\n",
    "\n",
    "for state in top_user_list:\n",
    "    cur_states=top_connect3+state+\"/\"\n",
    "    year_list=os.listdir(cur_states)\n",
    "    \n",
    "    for year in year_list:\n",
    "        cur_year=cur_states+year+\"/\"\n",
    "        file_list=os.listdir(cur_year)\n",
    "\n",
    "        for file in file_list:\n",
    "            all_files=cur_year+file\n",
    "            data=open(all_files,\"r\")\n",
    "            tu=json.load(data)\n",
    "\n",
    "            for i in tu[\"data\"][\"pincodes\"]:\n",
    "                entityname=i[\"name\"]\n",
    "                registeredUsers=i[\"registeredUsers\"]\n",
    "                top_columns3[\"pincodes\"].append(entityname)\n",
    "                top_columns3[\"RegisteredUsers\"].append(registeredUsers)\n",
    "                top_columns3[\"states\"].append(state)\n",
    "                top_columns3[\"Years\"].append(year)\n",
    "                top_columns3[\"Quarter\"].append(int(file.strip(\".json\")))\n",
    "\n",
    "top_user=pd.DataFrame(top_columns3)\n",
    "\n",
    "top_user[\"states\"]=top_user[\"states\"].str.replace(\"andaman-&-nicobar-islands\",'Andaman & Nicobar')\n",
    "top_user[\"states\"]=top_user[\"states\"].str.replace('-',' ')\n",
    "top_user[\"states\"]=top_user[\"states\"].str.title()\n",
    "top_user[\"states\"]=top_user[\"states\"].str.replace('Dadra & Nagar Haveli & Daman & Diu','Dadra and Nagar Haveli and Daman and Diu')"
   ]
  },
  {
   "cell_type": "code",
   "execution_count": null,
   "metadata": {},
   "outputs": [],
   "source": [
    "top_user"
   ]
  },
  {
   "cell_type": "code",
   "execution_count": 21,
   "metadata": {},
   "outputs": [],
   "source": [
    "#create tables for aggregate\n",
    "create_table1=\"\"\"CREATE TABLE if not exists aggre_insurance(states varchar(255),\n",
    "                                               years int,\n",
    "                                               quarter int,\n",
    "                                               Transaction_type varchar(255),\n",
    "                                               Transaction_count bigint,\n",
    "                                               Transaction_amount bigint)\"\"\"\n",
    "\n",
    "connect_data.execute(create_table1)\n",
    "connection.commit()\n",
    "\n",
    "insert_query1='''INSERT INTO aggre_insurance(states, Years, Quarter,Transaction_type,Transaction_count,Transaction_amount)\n",
    "                                                                                           VALUES (%s,%s,%s,%s,%s,%s)'''\n",
    "\n",
    "datas1=aggre_insurance.values.tolist()\n",
    "connect_data.executemany(insert_query1,datas1)\n",
    "connection.commit() \n",
    "\n",
    "#transaction\n",
    "create_table2=\"\"\"CREATE TABLE if not exists aggre_transaction(states varchar(255),\n",
    "                                               years int,\n",
    "                                               quarter int,\n",
    "                                               Transaction_type varchar(255),\n",
    "                                               Transaction_count bigint,\n",
    "                                               Transaction_amount bigint)\"\"\"\n",
    "\n",
    "connect_data.execute(create_table2)\n",
    "connection.commit()\n",
    "\n",
    "insert_query2='''INSERT INTO aggre_transaction(states, Years, Quarter,Transaction_type,Transaction_count,Transaction_amount)\n",
    "                                                                                           VALUES (%s,%s,%s,%s,%s,%s)'''\n",
    "\n",
    "datas2=aggre_transaction.values.tolist()\n",
    "connect_data.executemany(insert_query2,datas2)\n",
    "connection.commit() \n",
    "\n",
    "#user\n",
    "create_table3=\"\"\"CREATE TABLE if not exists aggre_user(states varchar(255),\n",
    "                                               years int,\n",
    "                                               quarter int,\n",
    "                                               Brands varchar(255),\n",
    "                                               Transaction_count bigint,\n",
    "                                               Precentage float)\"\"\"\n",
    "\n",
    "connect_data.execute(create_table3)\n",
    "connection.commit()\n",
    "\n",
    "insert_query3='''INSERT INTO aggre_user(states, Years, Quarter,Brands,Transaction_count,Precentage)\n",
    "                                                                                           VALUES (%s,%s,%s,%s,%s,%s)'''\n",
    "\n",
    "datas3=aggre_user.values.tolist()\n",
    "\n",
    "connect_data.executemany(insert_query3,datas3)\n",
    "connection.commit() "
   ]
  },
  {
   "cell_type": "code",
   "execution_count": 22,
   "metadata": {},
   "outputs": [],
   "source": [
    "#create tables for map\n",
    "create_table4=\"\"\"CREATE TABLE if not exists map_insurance(states varchar(255),\n",
    "                                               years int,\n",
    "                                               quarter int,\n",
    "                                               Districts varchar(255),\n",
    "                                               Transaction_count bigint,\n",
    "                                               Transaction_amount bigint)\"\"\"\n",
    "\n",
    "connect_data.execute(create_table4)\n",
    "connection.commit()\n",
    "\n",
    "insert_query4='''INSERT INTO map_insurance(states, Years, Quarter,Districts,Transaction_count,Transaction_amount)\n",
    "                                                                                           VALUES (%s,%s,%s,%s,%s,%s)'''\n",
    "\n",
    "datas4=map_insurance.values.tolist()\n",
    "connect_data.executemany(insert_query4,datas4)\n",
    "connection.commit() \n",
    "\n",
    "#transaction\n",
    "create_table5=\"\"\"CREATE TABLE if not exists map_transaction(states varchar(255),\n",
    "                                               years int,\n",
    "                                               quarter int,\n",
    "                                               Districts varchar(255),\n",
    "                                               Transaction_count bigint,\n",
    "                                               Transaction_amount bigint)\"\"\"\n",
    "\n",
    "connect_data.execute(create_table5)\n",
    "connection.commit()\n",
    "\n",
    "insert_query5='''INSERT INTO map_transaction(states, Years, Quarter,Districts,Transaction_count,Transaction_amount)\n",
    "                                                                                           VALUES (%s,%s,%s,%s,%s,%s)'''\n",
    "\n",
    "datas5=map_transanction.values.tolist()\n",
    "connect_data.executemany(insert_query5,datas5)\n",
    "connection.commit() \n",
    "\n",
    "#user\n",
    "create_table6=\"\"\"CREATE TABLE if not exists map_user(states varchar(255),\n",
    "                                               years int,\n",
    "                                               quarter int,\n",
    "                                               Districts varchar(255),\n",
    "                                               RegisteredUsers bigint,\n",
    "                                               AppOpens bigint)\"\"\"\n",
    "\n",
    "connect_data.execute(create_table6)\n",
    "connection.commit()\n",
    "\n",
    "insert_query6='''INSERT INTO map_user(states, Years, Quarter,Districts,RegisteredUsers,AppOpens)\n",
    "                                                                                           VALUES (%s,%s,%s,%s,%s,%s)'''\n",
    "\n",
    "datas6=map_user.values.tolist()\n",
    "connect_data.executemany(insert_query6,datas6)\n",
    "connection.commit() "
   ]
  },
  {
   "cell_type": "code",
   "execution_count": 23,
   "metadata": {},
   "outputs": [],
   "source": [
    "#create tables for top\n",
    "create_table7=\"\"\"CREATE TABLE if not exists top_insurance(states varchar(255),\n",
    "                                               years int,\n",
    "                                               quarter int,\n",
    "                                               pincodes bigint,\n",
    "                                               Transaction_count bigint,\n",
    "                                               Transaction_amount bigint)\"\"\"\n",
    "\n",
    "connect_data.execute(create_table7)\n",
    "connection.commit()\n",
    "\n",
    "insert_query7='''INSERT INTO top_insurance(states, Years, Quarter,pincodes,Transaction_count,Transaction_amount)\n",
    "                                                                                           VALUES (%s,%s,%s,%s,%s,%s)'''\n",
    "\n",
    "datas7=top_insurance.values.tolist()\n",
    "connect_data.executemany(insert_query7,datas7)\n",
    "connection.commit() \n",
    "\n",
    "\n",
    "#transaction\n",
    "create_table8=\"\"\"CREATE TABLE if not exists top_transaction(states varchar(255),\n",
    "                                               years int,\n",
    "                                               quarter int,\n",
    "                                               pincodes bigint,\n",
    "                                               Transaction_count bigint,\n",
    "                                               Transaction_amount bigint)\"\"\"\n",
    "\n",
    "connect_data.execute(create_table8)\n",
    "connection.commit()\n",
    "\n",
    "insert_query8='''INSERT INTO top_transaction(states, Years, Quarter,pincodes,Transaction_count,Transaction_amount)\n",
    "                                                                                           VALUES (%s,%s,%s,%s,%s,%s)'''\n",
    "\n",
    "datas8=top_transaction.values.tolist()\n",
    "connect_data.executemany(insert_query8,datas8)\n",
    "connection.commit() \n",
    "\n",
    "#user\n",
    "create_table9=\"\"\"CREATE TABLE if not exists top_user(states varchar(255),\n",
    "                                               years int,\n",
    "                                               quarter int,\n",
    "                                               pincodes bigint,\n",
    "                                               RegisteredUsers bigint)\"\"\"\n",
    "\n",
    "connect_data.execute(create_table9)\n",
    "connection.commit()\n",
    "\n",
    "insert_query9='''INSERT INTO top_user(states, Years, Quarter,pincodes,RegisteredUsers) VALUES (%s,%s,%s,%s,%s)'''\n",
    "\n",
    "datas9=top_user.values.tolist()\n",
    "connect_data.executemany(insert_query9,datas9)\n",
    "connection.commit() "
   ]
  },
  {
   "cell_type": "markdown",
   "metadata": {},
   "source": [
    "### DataFrame creation get data in mysql\n"
   ]
  },
  {
   "cell_type": "code",
   "execution_count": 24,
   "metadata": {},
   "outputs": [],
   "source": [
    "\n",
    "##mysql connection\n",
    "connection = pymysql.connect(\n",
    "             host=\"localhost\",\n",
    "             user=\"root\",\n",
    "             password=\"adhi\",\n",
    "             database=\"phonepe\")\n",
    "\n",
    "connect_data=connection.cursor()\n",
    "\n",
    "#aggregated insurance df\n",
    "connect_data.execute(\"SELECT * FROM aggre_insurance\")\n",
    "connection.commit()\n",
    "table1=connect_data.fetchall()\n",
    "\n",
    "aggregated_insurance_df=pd.DataFrame(table1,columns=(\"states\", \"Years\", \"Quarter\",\"Transaction_type\",\"Transaction_count\",\"Transaction_amount\"))\n"
   ]
  },
  {
   "cell_type": "code",
   "execution_count": null,
   "metadata": {},
   "outputs": [],
   "source": [
    "aggregated_insurance_df"
   ]
  },
  {
   "cell_type": "code",
   "execution_count": 26,
   "metadata": {},
   "outputs": [],
   "source": [
    "#aggregated transaction df\n",
    "connect_data.execute(\"SELECT * FROM aggre_transaction\")\n",
    "connection.commit()\n",
    "table2=connect_data.fetchall()\n",
    "\n",
    "aggregated_transaction_df=pd.DataFrame(table2,columns=(\"states\", \"Years\", \"Quarter\",\"Transaction_type\",\"Transaction_count\",\"Transaction_amount\"))"
   ]
  },
  {
   "cell_type": "code",
   "execution_count": null,
   "metadata": {},
   "outputs": [],
   "source": [
    "aggregated_transaction_df"
   ]
  },
  {
   "cell_type": "code",
   "execution_count": 28,
   "metadata": {},
   "outputs": [],
   "source": [
    "#aggregated user df\n",
    "connect_data.execute(\"SELECT * FROM aggre_user\")\n",
    "connection.commit()\n",
    "table3=connect_data.fetchall()\n",
    "\n",
    "aggregated_user_df=pd.DataFrame(table3,columns=(\"states\",\"Years\",\"Quarter\",\"Brands\",\"Transaction_count\",\"Precentage\"))"
   ]
  },
  {
   "cell_type": "code",
   "execution_count": null,
   "metadata": {},
   "outputs": [],
   "source": [
    "aggregated_user_df"
   ]
  },
  {
   "cell_type": "code",
   "execution_count": 30,
   "metadata": {},
   "outputs": [],
   "source": [
    "#map insurance df\n",
    "connect_data.execute(\"SELECT * FROM map_insurance\")\n",
    "connection.commit()\n",
    "table4=connect_data.fetchall()\n",
    "\n",
    "map_insurance_df=pd.DataFrame(table4,columns=(\"states\",\"Years\",\"Quarter\",\"Districts\",\"Transaction_count\",\"Transaction_amount\"))"
   ]
  },
  {
   "cell_type": "code",
   "execution_count": null,
   "metadata": {},
   "outputs": [],
   "source": [
    "map_insurance_df"
   ]
  },
  {
   "cell_type": "code",
   "execution_count": 32,
   "metadata": {},
   "outputs": [],
   "source": [
    "#map transaction df\n",
    "connect_data.execute(\"SELECT * FROM map_transaction\")\n",
    "connection.commit()\n",
    "table5=connect_data.fetchall()\n",
    "\n",
    "map_transanction_df=pd.DataFrame(table5,columns=(\"states\",\"Years\",\"Quarter\",\"Districts\",\"Transaction_count\",\"Transaction_amount\"))"
   ]
  },
  {
   "cell_type": "code",
   "execution_count": null,
   "metadata": {},
   "outputs": [],
   "source": [
    "map_transanction_df"
   ]
  },
  {
   "cell_type": "code",
   "execution_count": 34,
   "metadata": {},
   "outputs": [],
   "source": [
    "#map user df\n",
    "connect_data.execute(\"SELECT * FROM map_user\")\n",
    "connection.commit()\n",
    "table6=connect_data.fetchall()\n",
    "\n",
    "map_user_df=pd.DataFrame(table6,columns=(\"states\", \"Years\",\"Quarter\",\"Districts\",\"RegisteredUsers\",\"AppOpens\"))"
   ]
  },
  {
   "cell_type": "code",
   "execution_count": null,
   "metadata": {},
   "outputs": [],
   "source": [
    "map_user_df"
   ]
  },
  {
   "cell_type": "code",
   "execution_count": 36,
   "metadata": {},
   "outputs": [],
   "source": [
    "#top insurance df\n",
    "connect_data.execute(\"SELECT * FROM top_insurance\")\n",
    "connection.commit()\n",
    "table7=connect_data.fetchall()\n",
    "\n",
    "top_insurance_df=pd.DataFrame(table7,columns=(\"states\", \"Years\",\"Quarter\",\"pincodes\",\"Transaction_count\",\"Transaction_amount\"))"
   ]
  },
  {
   "cell_type": "code",
   "execution_count": null,
   "metadata": {},
   "outputs": [],
   "source": [
    "top_insurance_df"
   ]
  },
  {
   "cell_type": "code",
   "execution_count": 38,
   "metadata": {},
   "outputs": [],
   "source": [
    "#top transaction df\n",
    "connect_data.execute(\"SELECT * FROM top_transaction\")\n",
    "connection.commit()\n",
    "table8=connect_data.fetchall()\n",
    "\n",
    "top_transaction_df=pd.DataFrame(table8,columns=(\"states\", \"Years\",\"Quarter\",\"pincodes\",\"Transaction_count\",\"Transaction_amount\"))"
   ]
  },
  {
   "cell_type": "code",
   "execution_count": null,
   "metadata": {},
   "outputs": [],
   "source": [
    "top_transaction_df"
   ]
  },
  {
   "cell_type": "code",
   "execution_count": 40,
   "metadata": {},
   "outputs": [],
   "source": [
    "#top user df\n",
    "connect_data.execute(\"SELECT * FROM top_user\")\n",
    "connection.commit()\n",
    "table9=connect_data.fetchall()\n",
    "\n",
    "top_user_df=pd.DataFrame(table9,columns=(\"states\", \"Years\",\"Quarter\",\"pincodes\",\"RegisteredUsers\"))"
   ]
  },
  {
   "cell_type": "code",
   "execution_count": null,
   "metadata": {},
   "outputs": [],
   "source": [
    "top_user_df"
   ]
  },
  {
   "cell_type": "markdown",
   "metadata": {},
   "source": [
    "### Functions creation  \n",
    "Aggregate  data visualization "
   ]
  },
  {
   "cell_type": "code",
   "execution_count": 42,
   "metadata": {},
   "outputs": [],
   "source": [
    "#aggre_insu_year_count_amount\n",
    "def ty_count_amount(df , years):\n",
    "    t_acy=df[df[\"Years\"] == years]\n",
    "    t_acy.reset_index(drop=True, inplace=True)\n",
    "\n",
    "    t_acyg=t_acy.groupby(\"states\")[[\"Transaction_count\",\"Transaction_amount\"]].sum()\n",
    "    t_acyg.reset_index(inplace=True)\n",
    "\n",
    "    fig_count = px.bar(t_acyg, x=\"states\", y=\"Transaction_count\", title=f\"{years} TRANSACTION COUNT\",\n",
    "                        color_discrete_sequence=px.colors.sequential.Bluered,height=650,width=600)\n",
    "    fig_count.show()\n",
    "\n",
    "    fig_amount = px.bar(t_acyg, x=\"states\", y=\"Transaction_amount\", title=f\"{years} TRANSACTION AMOUNT\",\n",
    "                        color_discrete_sequence=px.colors.sequential.Aggrnyl,height=650,width=600)\n",
    "    fig_amount.show()\n",
    "\n",
    "    url=\"https://gist.githubusercontent.com/jbrobst/56c13bbbf9d97d187fea01ca62ea5112/raw/e388c4cae20aa53cb5090210a42ebb9b765c0a36/india_states.geojson\"\n",
    "    response=requests.get(url)\n",
    "    data=json.loads(response.content)\n",
    "    state_names=[]\n",
    "    for i in data[\"features\"]:\n",
    "        state_names.append(i[\"properties\"][\"ST_NM\"])\n",
    "\n",
    "    state_names.sort()\n",
    "\n",
    "    fig_india1=px.choropleth(t_acyg, geojson=data,locations=\"states\",featureidkey=\"properties.ST_NM\",\n",
    "                            color=\"Transaction_count\",color_continuous_scale=\"Rainbow\",\n",
    "                            range_color=(t_acyg[\"Transaction_count\"].min(),t_acyg[\"Transaction_count\"].max()),\n",
    "                            hover_name=\"states\",title=f\"{years} TRANSACTION COUNT\",fitbounds=\"locations\",height=600,width=600)\n",
    "    fig_india1.update_geos(visible=False)\n",
    "    fig_india1.show()\n",
    "\n",
    "    fig_india2=px.choropleth(t_acyg, geojson=data,locations=\"states\",featureidkey=\"properties.ST_NM\",\n",
    "                            color=\"Transaction_amount\",color_continuous_scale=\"Rainbow\",\n",
    "                            range_color=(t_acyg[\"Transaction_amount\"].min(),t_acyg[\"Transaction_amount\"].max()),\n",
    "                            hover_name=\"states\",title=f\"{years} TRANSACTION AMOUNT\",fitbounds=\"locations\",height=600,width=600)\n",
    "    fig_india2.update_geos(visible=False)\n",
    "    fig_india2.show()\n",
    "\n",
    "    return t_acy\n"
   ]
  },
  {
   "cell_type": "code",
   "execution_count": null,
   "metadata": {},
   "outputs": [],
   "source": [
    "tac_y=ty_count_amount(aggregated_insurance_df,2020)"
   ]
  },
  {
   "cell_type": "code",
   "execution_count": 44,
   "metadata": {},
   "outputs": [],
   "source": [
    "#aggre_insu_year_count_amount_quarter \n",
    "def ty_Q_count_amount(df , Quarter):\n",
    "    tac_y_q=df[df[\"Quarter\"] == Quarter]\n",
    "    tac_y_q.reset_index(drop=True, inplace=True)\n",
    "\n",
    "    t_acyg=tac_y_q.groupby(\"states\")[[\"Transaction_count\",\"Transaction_amount\"]].sum()\n",
    "    t_acyg.reset_index(inplace=True)\n",
    "\n",
    "    fig_count = px.bar(t_acyg, x=\"states\", y=\"Transaction_count\", title=f\"{tac_y_q['Years'].unique()} YEAR {Quarter} QUARTER TRANSACTION COUNT\",\n",
    "                        color_discrete_sequence=px.colors.sequential.Bluered,height=650,width=600)\n",
    "    fig_count.show()\n",
    "\n",
    "    fig_amount = px.bar(t_acyg, x=\"states\", y=\"Transaction_amount\", title=f\"{tac_y_q['Years'].unique()} YEAR {Quarter} QUARTER  TRANSACTION AMOUNT\",\n",
    "                        color_discrete_sequence=px.colors.sequential.Aggrnyl,height=650,width=600)\n",
    "    fig_amount.show()\n",
    "\n",
    "    url=\"https://gist.githubusercontent.com/jbrobst/56c13bbbf9d97d187fea01ca62ea5112/raw/e388c4cae20aa53cb5090210a42ebb9b765c0a36/india_states.geojson\"\n",
    "    response=requests.get(url)\n",
    "    data=json.loads(response.content)\n",
    "    state_names=[]\n",
    "    for i in data[\"features\"]:\n",
    "        state_names.append(i[\"properties\"][\"ST_NM\"])\n",
    "\n",
    "    state_names.sort()\n",
    "\n",
    "    fig_india1=px.choropleth(t_acyg, geojson=data,locations=\"states\",featureidkey=\"properties.ST_NM\",\n",
    "                            color=\"Transaction_count\",color_continuous_scale=\"Rainbow\",\n",
    "                            range_color=(t_acyg[\"Transaction_count\"].min(),t_acyg[\"Transaction_count\"].max()),\n",
    "                            hover_name=\"states\",title=f\"{tac_y_q['Years'].unique()} YEAR {Quarter} QUARTER  TRANSACTION COUNT\",fitbounds=\"locations\",height=600,width=600)\n",
    "    fig_india1.update_geos(visible=False)\n",
    "    fig_india1.show()\n",
    "\n",
    "    fig_india2=px.choropleth(t_acyg, geojson=data,locations=\"states\",featureidkey=\"properties.ST_NM\",\n",
    "                            color=\"Transaction_amount\",color_continuous_scale=\"Rainbow\",\n",
    "                            range_color=(t_acyg[\"Transaction_amount\"].min(),t_acyg[\"Transaction_amount\"].max()),\n",
    "                            hover_name=\"states\",title=f\"{tac_y_q['Years'].unique()} YEAR {Quarter} QUARTER  TRANSACTION AMOUNT\",fitbounds=\"locations\",height=600,width=600)\n",
    "    fig_india2.update_geos(visible=False)\n",
    "    fig_india2.show()\n",
    "\n",
    "    return tac_y_q\n"
   ]
  },
  {
   "cell_type": "code",
   "execution_count": null,
   "metadata": {},
   "outputs": [],
   "source": [
    "ty_Q_count_amount(tac_y , 2)"
   ]
  },
  {
   "cell_type": "code",
   "execution_count": null,
   "metadata": {},
   "outputs": [],
   "source": [
    "at_tac_y=ty_count_amount(aggregated_transaction_df ,2020)"
   ]
  },
  {
   "cell_type": "code",
   "execution_count": 47,
   "metadata": {},
   "outputs": [],
   "source": [
    "#Aggre_trans_transaction type analysis\n",
    "def aggregated_transaction_type(df,state):\n",
    "    t_acy=df[df[\"states\"] == state]\n",
    "    t_acy.reset_index(drop=True, inplace=True)\n",
    "\n",
    "    t_acyg=t_acy.groupby(\"Transaction_type\")[[\"Transaction_count\",\"Transaction_amount\"]].sum()\n",
    "    t_acyg.reset_index(inplace=True)\n",
    "    t_acyg\n",
    "\n",
    "    fig_pie_1 = px.pie(data_frame =t_acyg,names=\"Transaction_type\",values=\"Transaction_amount\",\n",
    "                    width=600,title=f\"{state.upper()} TRANSACTION AMOUNT\",hole=0.5,color_discrete_sequence=px.colors.sequential.RdPu_r)\n",
    "    fig_pie_1.show()\n",
    "\n",
    "    fig_pie_2 = px.pie(data_frame =t_acyg,names=\"Transaction_type\",values=\"Transaction_count\",\n",
    "                    width=600,title=f\"{state.upper()} TRANSACTION COUNT\",hole=0.5,color_discrete_sequence=px.colors.sequential.Rainbow_r)\n",
    "    fig_pie_2.show()"
   ]
  },
  {
   "cell_type": "code",
   "execution_count": null,
   "metadata": {},
   "outputs": [],
   "source": [
    "aggregated_transaction_type(at_tac_y,\"Assam\")"
   ]
  },
  {
   "cell_type": "code",
   "execution_count": null,
   "metadata": {},
   "outputs": [],
   "source": [
    "at_tac_y=ty_count_amount(aggregated_transaction_df ,2021)"
   ]
  },
  {
   "cell_type": "code",
   "execution_count": null,
   "metadata": {},
   "outputs": [],
   "source": [
    "aggre_at_tac_y_q = ty_Q_count_amount(at_tac_y, 2)"
   ]
  },
  {
   "cell_type": "code",
   "execution_count": 51,
   "metadata": {},
   "outputs": [],
   "source": [
    "#aggregated user year analysis\n",
    "def aggre_user_year(df,year):\n",
    "    aggre_uy= df[df[\"Years\"]== year]\n",
    "    aggre_uy.reset_index(drop = True,inplace = True)\n",
    "\n",
    "    aggre_uyg = pd.DataFrame(aggre_uy.groupby(\"Brands\")[\"Transaction_count\"].sum())\n",
    "    aggre_uyg.reset_index(inplace = True)\n",
    "\n",
    "    fig_bar_1 = px.bar(aggre_uyg, x=\"Brands\", y=\"Transaction_count\", title=f\"{year}BRANDS AND TRANSACTION COUNT\", \n",
    "                        width=800, color_discrete_sequence= px.colors.sequential.Hot,hover_name=\"Brands\")\n",
    "    fig_bar_1.show()\n",
    "\n",
    "    return aggre_uy\n",
    "                  "
   ]
  },
  {
   "cell_type": "code",
   "execution_count": null,
   "metadata": {},
   "outputs": [],
   "source": [
    "aggre_user_y=aggre_user_year(aggregated_user_df,2020)"
   ]
  },
  {
   "cell_type": "code",
   "execution_count": 53,
   "metadata": {},
   "outputs": [],
   "source": [
    "#aggregated user year quarter analysis\n",
    "def aggre_user_year_q(df,Quarter):\n",
    "    aggre_uyq= df[df[\"Quarter\"]== Quarter]\n",
    "    aggre_uyq.reset_index(drop = True,inplace = True)\n",
    "\n",
    "    aggre_uyqg=pd.DataFrame(aggre_uyq.groupby(\"Brands\")[\"Transaction_count\"].sum())\n",
    "    aggre_uyqg.reset_index(inplace=True)\n",
    "\n",
    "    fig_bar_1 = px.bar(aggre_uyqg, x=\"Brands\", y=\"Transaction_count\", title=f\"{Quarter} QUARTER BRANDS AND TRANSACTION COUNT\", \n",
    "                            width=800, color_discrete_sequence= px.colors.sequential.Viridis,hover_name=\"Brands\")\n",
    "    fig_bar_1.show()\n",
    "\n",
    "    return aggre_uyq"
   ]
  },
  {
   "cell_type": "code",
   "execution_count": null,
   "metadata": {},
   "outputs": [],
   "source": [
    "aggre_user_yq=aggre_user_year_q(aggre_user_y,3)"
   ]
  },
  {
   "cell_type": "code",
   "execution_count": 55,
   "metadata": {},
   "outputs": [],
   "source": [
    "#aggre user year quarter state analysis\n",
    "def aggre_user_year_qs(df, state):\n",
    "    aggre_uyqs= df[df[\"states\"]== state]\n",
    "    aggre_uyqs.reset_index(drop= True, inplace= True)\n",
    "\n",
    "    fig_bar_1 = px.bar(aggre_uyqs, x= \"Brands\", y= \"Transaction_count\",title = f\"{state} BRANDS AND TRANSACTION COUNT\",\n",
    "                        width=800, color_discrete_sequence= px.colors.sequential.Jet_r)\n",
    "    fig_bar_1.show()\n"
   ]
  },
  {
   "cell_type": "code",
   "execution_count": null,
   "metadata": {},
   "outputs": [],
   "source": [
    "aggre_user_year_qs(aggre_user_yq, \"Tamil Nadu\")"
   ]
  },
  {
   "cell_type": "markdown",
   "metadata": {},
   "source": [
    "### map data visualization "
   ]
  },
  {
   "cell_type": "code",
   "execution_count": null,
   "metadata": {},
   "outputs": [],
   "source": [
    "#map insurance analysis\n",
    "map_in_tac_y=ty_count_amount(map_insurance_df,2021)\n"
   ]
  },
  {
   "cell_type": "code",
   "execution_count": 58,
   "metadata": {},
   "outputs": [],
   "source": [
    "#map district analysis\n",
    "def map_insu_district(df,state):\n",
    "    m_acd=df[df[\"states\"] == state]\n",
    "    m_acd.reset_index(drop=True, inplace=True)\n",
    "\n",
    "    m_acdg=m_acd.groupby(\"Districts\")[[\"Transaction_count\",\"Transaction_amount\"]].sum()\n",
    "    m_acdg.reset_index(inplace=True)\n",
    "\n",
    "    fig_bar_1 = px.bar(m_acdg, x=\"Transaction_count\", y= \"Districts\", orientation=\"h\",height=600,\n",
    "                            title=f\"{state.upper()} DISTRICT AND TRANSACTION COUNT\", color_discrete_sequence=px.colors.sequential.Mint_r)\n",
    "    fig_bar_1.show()\n",
    "    \n",
    "    fig_bar_2 = px.bar(m_acdg, x=\"Transaction_amount\", y= \"Districts\", orientation=\"h\",height=600,\n",
    "                            title=f\"{state.upper()} DISTRICT AND TRANSACTION AMOUNT\", color_discrete_sequence=px.colors.sequential.Reds_r)\n",
    "    fig_bar_2.show()"
   ]
  },
  {
   "cell_type": "code",
   "execution_count": null,
   "metadata": {},
   "outputs": [],
   "source": [
    "map_insu_district(map_in_tac_y,\"Tamil Nadu\")"
   ]
  },
  {
   "cell_type": "code",
   "execution_count": null,
   "metadata": {},
   "outputs": [],
   "source": [
    "#map  insu quarter analysis\n",
    "map_insu_tac_yq = ty_Q_count_amount(map_in_tac_y, 3)"
   ]
  },
  {
   "cell_type": "code",
   "execution_count": null,
   "metadata": {},
   "outputs": [],
   "source": [
    "#map insu year quarter  analysis\n",
    "map_insu_district(map_insu_tac_yq ,\"Tamil Nadu\")"
   ]
  },
  {
   "cell_type": "code",
   "execution_count": null,
   "metadata": {},
   "outputs": [],
   "source": [
    "# map transaction analysis\n",
    "map_trans_tac_y=ty_count_amount(map_transanction_df,2021)"
   ]
  },
  {
   "cell_type": "code",
   "execution_count": null,
   "metadata": {},
   "outputs": [],
   "source": [
    "#map transaction analysis states\n",
    "map_insu_district(map_trans_tac_y,\"Tamil Nadu\")"
   ]
  },
  {
   "cell_type": "code",
   "execution_count": null,
   "metadata": {},
   "outputs": [],
   "source": [
    "#map transaction quartet analysis\n",
    "map_trans_tac_yq = ty_Q_count_amount(map_trans_tac_y, 3)"
   ]
  },
  {
   "cell_type": "code",
   "execution_count": null,
   "metadata": {},
   "outputs": [],
   "source": [
    "#map trans year quarter  analysis\n",
    "map_insu_district(map_trans_tac_yq ,\"Tamil Nadu\")"
   ]
  },
  {
   "cell_type": "code",
   "execution_count": 66,
   "metadata": {},
   "outputs": [],
   "source": [
    "#map user year analysis\n",
    "def map_user_year(df,year):\n",
    "    map_uy= df[df[\"Years\"]== year]\n",
    "    map_uy.reset_index(drop = True,inplace = True)\n",
    "\n",
    "    map_uyg = pd.DataFrame(map_uy.groupby(\"states\")[[\"RegisteredUsers\",\"AppOpens\"]].sum())\n",
    "    map_uyg.reset_index(inplace = True)\n",
    "\n",
    "    fig_line_1 = px.line(map_uyg, x =\"states\",y=[\"RegisteredUsers\",\"AppOpens\"],\n",
    "                        title=f\"{year} REGISTERED USERS AND APPOPENS\",width = 1000, height=800, markers= True,color_discrete_sequence=[\"red\", \"blue\"])\n",
    "    fig_line_1.show()\n",
    "\n",
    "    return map_uy\n"
   ]
  },
  {
   "cell_type": "code",
   "execution_count": null,
   "metadata": {},
   "outputs": [],
   "source": [
    "map_user_y = map_user_year(map_user_df,2020)"
   ]
  },
  {
   "cell_type": "code",
   "execution_count": 68,
   "metadata": {},
   "outputs": [],
   "source": [
    "#map user quarter analysis\n",
    "def map_user_year_quarter(df,quarter):\n",
    "    map_uyq= df[df[\"Quarter\"]== quarter]\n",
    "    map_uyq.reset_index(drop = True,inplace = True)\n",
    "\n",
    "    map_uyqg = pd.DataFrame(map_uyq.groupby(\"states\")[[\"RegisteredUsers\",\"AppOpens\"]].sum())\n",
    "    map_uyqg.reset_index(inplace = True)\n",
    "\n",
    "    fig_line_1 = px.line(map_uyqg, x =\"states\",y=[\"RegisteredUsers\",\"AppOpens\"],\n",
    "                        title=f\"{df['Years'].min()} YEAR {quarter} QUARTER REGISTERED USERS AND APPOPENS\",width = 1000, height=800, markers= True,color_discrete_sequence=[\"orange\", \"darkblue\"])\n",
    "    fig_line_1.show()\n",
    "\n",
    "    return map_uyq"
   ]
  },
  {
   "cell_type": "code",
   "execution_count": null,
   "metadata": {},
   "outputs": [],
   "source": [
    "map_user_yq=map_user_year_quarter(map_user_y ,3)"
   ]
  },
  {
   "cell_type": "code",
   "execution_count": 70,
   "metadata": {},
   "outputs": [],
   "source": [
    "#map user states analysis\n",
    "def map_user_year_quarter_states(df,states):\n",
    "    map_uyqs= df[df[\"states\"]== states]\n",
    "    map_uyqs.reset_index(drop = True,inplace = True)\n",
    "\n",
    "    fig_bar_1=px.bar(map_uyqs, x= \"RegisteredUsers\", y= \"Districts\", orientation=\"h\",height=800,\n",
    "                    title=f\"{states.upper()} REGISTERED USERS\", color_discrete_sequence=px.colors.sequential.Rainbow) \n",
    "    fig_bar_1.show()\n",
    "\n",
    "    fig_bar_2=px.bar(map_uyqs, x= \"AppOpens\", y= \"Districts\", orientation=\"h\",height=800,\n",
    "                    title=f\"{states.upper()} APPOPENS USERS\", color_discrete_sequence=px.colors.sequential.Oranges_r) \n",
    "    fig_bar_2.show()\n"
   ]
  },
  {
   "cell_type": "code",
   "execution_count": null,
   "metadata": {},
   "outputs": [],
   "source": [
    "map_user_year_quarter_states(map_user_yq,\"Tamil Nadu\")"
   ]
  },
  {
   "cell_type": "markdown",
   "metadata": {},
   "source": [
    "### Top data visualization "
   ]
  },
  {
   "cell_type": "code",
   "execution_count": null,
   "metadata": {},
   "outputs": [],
   "source": [
    "#top insurance analysis\n",
    "Top_insu_y = ty_count_amount(top_insurance_df,2020)"
   ]
  },
  {
   "cell_type": "code",
   "execution_count": 73,
   "metadata": {},
   "outputs": [],
   "source": [
    "# top insu states pincode analysis\n",
    "def top_in_year_states(df,states):\n",
    "    top_in_ys= df[df[\"states\"]== states]\n",
    "    top_in_ys.reset_index(drop = True,inplace = True)\n",
    "\n",
    "    top_in_ysg = pd.DataFrame(top_in_ys.groupby(\"pincodes\")[[\"Transaction_count\",\"Transaction_amount\"]].sum())\n",
    "    top_in_ysg.reset_index(inplace = True)\n",
    "\n",
    "    fig_bar_1=px.bar(top_in_ys, x= \"Quarter\", y= \"Transaction_amount\",height=800,hover_data=\"pincodes\",\n",
    "                    title=f\"{states.upper()} TRANSACTION AMOUNT\", color_discrete_sequence=px.colors.sequential.GnBu_r) \n",
    "    fig_bar_1.show()\n",
    "\n",
    "    fig_bar_2=px.bar(top_in_ys, x= \"Quarter\", y= \"Transaction_count\",height=800,hover_data=\"pincodes\",\n",
    "                    title=f\"{states.upper()} TRANSACTION COUNT\", color_discrete_sequence=px.colors.sequential.Agsunset_r) \n",
    "    fig_bar_2.show()"
   ]
  },
  {
   "cell_type": "code",
   "execution_count": null,
   "metadata": {},
   "outputs": [],
   "source": [
    "top_in_year_states(Top_insu_y ,\"Tamil Nadu\")"
   ]
  },
  {
   "cell_type": "code",
   "execution_count": null,
   "metadata": {},
   "outputs": [],
   "source": [
    "top_insu_y_q=ty_Q_count_amount(Top_insu_y ,3)"
   ]
  },
  {
   "cell_type": "code",
   "execution_count": null,
   "metadata": {},
   "outputs": [],
   "source": [
    "# top transaction analysis\n",
    "Top_trans_y_ta = ty_count_amount(top_transaction_df,2020)"
   ]
  },
  {
   "cell_type": "code",
   "execution_count": null,
   "metadata": {},
   "outputs": [],
   "source": [
    "top_in_year_states(Top_trans_y_ta,\"Tamil Nadu\")"
   ]
  },
  {
   "cell_type": "code",
   "execution_count": null,
   "metadata": {},
   "outputs": [],
   "source": [
    "top_trans_y_q=ty_Q_count_amount(Top_trans_y_ta ,3)"
   ]
  },
  {
   "cell_type": "code",
   "execution_count": 79,
   "metadata": {},
   "outputs": [],
   "source": [
    "#top user analysis\n",
    "def top_user_year(df,years):\n",
    "    top_uy= df[df[\"Years\"]== years]\n",
    "    top_uy.reset_index(drop = True,inplace = True)\n",
    "\n",
    "    top_uyg = pd.DataFrame(top_uy.groupby([\"states\", \"Quarter\"])[\"RegisteredUsers\"].sum())\n",
    "    top_uyg.reset_index(inplace = True)\n",
    "\n",
    "    fig_bar_1=px.bar(top_uyg, x=\"states\", y=\"RegisteredUsers\", hover_data= \"Quarter\", width=1000, height=800,\n",
    "                       title= f\"{years} REGISTERED USER\",hover_name=\"states\",color_discrete_sequence=px.colors.sequential.Blugrn_r)\n",
    "    fig_bar_1.show()\n",
    "\n",
    "    return top_uy"
   ]
  },
  {
   "cell_type": "code",
   "execution_count": null,
   "metadata": {},
   "outputs": [],
   "source": [
    "top_user_y=top_user_year(top_user_df,2020)"
   ]
  },
  {
   "cell_type": "code",
   "execution_count": 81,
   "metadata": {},
   "outputs": [],
   "source": [
    "#top user states pincode analysis\n",
    "def top_user_ys(df,state):\n",
    "    top_uys= df[df[\"states\"]==state]\n",
    "    top_uys.reset_index(drop = True,inplace = True)\n",
    "\n",
    "    fig_bar_1= px.bar(top_uys, x=\"Quarter\", y= \"RegisteredUsers\",title=\"REGISTERED USER, PINCODE, QUARTER\",\n",
    "                       width= 1000, height=1000,color=\"RegisteredUsers\", hover_data=\"pincodes\",\n",
    "                       color_continuous_scale=px.colors.sequential.Magenta)\n",
    "    fig_bar_1.show()\n"
   ]
  },
  {
   "cell_type": "code",
   "execution_count": null,
   "metadata": {},
   "outputs": [],
   "source": [
    "top_user_ys(top_user_y,\"Tamil Nadu\")"
   ]
  },
  {
   "cell_type": "markdown",
   "metadata": {},
   "source": [
    "### Top charts\n"
   ]
  },
  {
   "cell_type": "code",
   "execution_count": 83,
   "metadata": {},
   "outputs": [],
   "source": [
    "def top_chart_ta(table_name):\n",
    "    #mysql connection\n",
    "    connection = pymysql.connect(\n",
    "                host=\"localhost\",\n",
    "                user=\"root\",\n",
    "                password=\"adhi\",\n",
    "                database=\"phonepe\")\n",
    "\n",
    "    connect_data=connection.cursor()\n",
    "\n",
    "    #plot1\n",
    "    query1 = f'''SELECT states, SUM(transaction_amount) AS transaction_amount\n",
    "                FROM {table_name}\n",
    "                GROUP BY states\n",
    "                ORDER BY transaction_amount DESC\n",
    "                LIMIT 10;\n",
    "             '''\n",
    "\n",
    "    connect_data.execute(query1)\n",
    "    table = connect_data.fetchall()\n",
    "    connection.commit()\n",
    "\n",
    "    df_1 = pd.DataFrame(table,columns=(\"states\",\"transaction_amount\"))\n",
    "\n",
    "    fig_bar_df1= px.bar(df_1, x=\"states\", y= \"transaction_amount\",title=\"TOP 10 TRANSACTION AMOUNT\",hover_name=\"states\",\n",
    "                        width= 600, height=650,color_discrete_sequence=px.colors.sequential.Aggrnyl)\n",
    "    fig_bar_df1.show()\n",
    "\n",
    "    #plot 2\n",
    "    query2 = f'''SELECT states, SUM(transaction_amount) AS transaction_amount\n",
    "                FROM {table_name}\n",
    "                GROUP BY states\n",
    "                ORDER BY transaction_amount \n",
    "                LIMIT 10;\n",
    "              '''\n",
    "\n",
    "    connect_data.execute(query2)\n",
    "    table2 = connect_data.fetchall()\n",
    "    connection.commit()\n",
    "\n",
    "    df_2 = pd.DataFrame(table2,columns=(\"states\",\"transaction_amount\"))\n",
    "\n",
    "    fig_bar_df2= px.bar(df_2, x=\"states\", y= \"transaction_amount\",title=\"LAST 10 TRANSACTION AMOUNT\",hover_name=\"states\",\n",
    "                        width= 600, height=650,color_discrete_sequence=px.colors.sequential.Aggrnyl_r)\n",
    "    fig_bar_df2.show()\n",
    "\n",
    "    #plot 3\n",
    "    query3 = f'''SELECT states, AVG(transaction_amount) AS transaction_amount\n",
    "                FROM {table_name}\n",
    "                GROUP BY states\n",
    "                ORDER BY transaction_amount;\n",
    "             '''\n",
    "\n",
    "    connect_data.execute(query3)\n",
    "    table3 = connect_data.fetchall()\n",
    "    connection.commit()\n",
    "\n",
    "    df_3 = pd.DataFrame(table3,columns=(\"states\",\"transaction_amount\"))\n",
    "\n",
    "    fig_bar_df3= px.bar(df_3, y=\"states\", x= \"transaction_amount\",title=\"AVERAGE TRANSACTION AMOUNT\",hover_name=\"states\",orientation=\"h\",\n",
    "                        width= 600, height=650,color_discrete_sequence=px.colors.sequential.Bluered_r)\n",
    "    fig_bar_df3.show()"
   ]
  },
  {
   "cell_type": "code",
   "execution_count": null,
   "metadata": {},
   "outputs": [],
   "source": [
    "top_chart_ta(\"aggre_insurance\")"
   ]
  },
  {
   "cell_type": "code",
   "execution_count": 85,
   "metadata": {},
   "outputs": [],
   "source": [
    "def top_chart_t_count(table_name):\n",
    "    #mysql connection\n",
    "    connection = pymysql.connect(\n",
    "                host=\"localhost\",\n",
    "                user=\"root\",\n",
    "                password=\"adhi\",\n",
    "                database=\"phonepe\")\n",
    "\n",
    "    connect_data=connection.cursor()\n",
    "\n",
    "    #plot1\n",
    "    query1 = f'''SELECT states, SUM(transaction_count) AS transaction_count\n",
    "                FROM {table_name}\n",
    "                GROUP BY states\n",
    "                ORDER BY transaction_count DESC\n",
    "                LIMIT 10;\n",
    "             '''\n",
    "\n",
    "    connect_data.execute(query1)\n",
    "    table = connect_data.fetchall()\n",
    "    connection.commit()\n",
    "\n",
    "    df_1 = pd.DataFrame(table,columns=(\"states\",\"transaction_count\"))\n",
    "\n",
    "    fig_bar_df1= px.bar(df_1, x=\"states\", y= \"transaction_count\",title=\"TOP 10 TRANSACTION COUNT\",hover_name=\"states\",\n",
    "                        width= 600, height=650,color_discrete_sequence=px.colors.sequential.Aggrnyl)\n",
    "    fig_bar_df1.show()\n",
    "\n",
    "    #plot 2\n",
    "    query2 = f'''SELECT states, SUM(transaction_count) AS transaction_count\n",
    "                FROM {table_name}\n",
    "                GROUP BY states\n",
    "                ORDER BY transaction_count \n",
    "                LIMIT 10;\n",
    "              '''\n",
    "\n",
    "    connect_data.execute(query2)\n",
    "    table2 = connect_data.fetchall()\n",
    "    connection.commit()\n",
    "\n",
    "    df_2 = pd.DataFrame(table2,columns=(\"states\",\"transaction_count\"))\n",
    "\n",
    "    fig_bar_df2= px.bar(df_2, x=\"states\", y= \"transaction_count\",title=\"LAST 10 TRANSACTION COUNT\",hover_name=\"states\",\n",
    "                        width= 600, height=650,color_discrete_sequence=px.colors.sequential.Aggrnyl_r)\n",
    "    fig_bar_df2.show()\n",
    "\n",
    "    #plot 3\n",
    "    query3 = f'''SELECT states, AVG(transaction_count) AS transaction_count\n",
    "                FROM {table_name}\n",
    "                GROUP BY states\n",
    "                ORDER BY transaction_count;\n",
    "             '''\n",
    "\n",
    "    connect_data.execute(query3)\n",
    "    table3 = connect_data.fetchall()\n",
    "    connection.commit()\n",
    "\n",
    "    df_3 = pd.DataFrame(table3,columns=(\"states\",\"transaction_count\"))\n",
    "\n",
    "    fig_bar_df3= px.bar(df_3, y=\"states\", x= \"transaction_count\",title=\"AVERAGE TRANSACTION COUNT\",hover_name=\"states\",orientation=\"h\",\n",
    "                        width= 600, height=650,color_discrete_sequence=px.colors.sequential.Bluered_r)\n",
    "    fig_bar_df3.show()"
   ]
  },
  {
   "cell_type": "code",
   "execution_count": null,
   "metadata": {},
   "outputs": [],
   "source": [
    "top_chart_t_count(\"aggre_insurance\")"
   ]
  },
  {
   "cell_type": "code",
   "execution_count": 87,
   "metadata": {},
   "outputs": [],
   "source": [
    "def top_chart_register_user(table_name,state):\n",
    "    #mysql connection\n",
    "    connection = pymysql.connect(\n",
    "                host=\"localhost\",\n",
    "                user=\"root\",\n",
    "                password=\"adhi\",\n",
    "                database=\"phonepe\")\n",
    "\n",
    "    connect_data=connection.cursor()\n",
    "\n",
    "    #plot1\n",
    "    query1 = f'''SELECT districts, SUM(RegisteredUsers) AS RegisteredUsers\n",
    "                FROM {table_name}\n",
    "                WHERE states='{state}'\n",
    "                GROUP BY districts\n",
    "                ORDER BY RegisteredUsers DESC\n",
    "                LIMIT 10;\n",
    "             '''\n",
    "\n",
    "    connect_data.execute(query1)\n",
    "    table = connect_data.fetchall()\n",
    "    connection.commit()\n",
    "\n",
    "    df_1 = pd.DataFrame(table,columns=(\"districts\",\"RegisteredUsers\"))\n",
    "\n",
    "    fig_bar_df1= px.bar(df_1, x=\"districts\", y= \"RegisteredUsers\",title=\"TOP 10 REGISTERED USER\",hover_name=\"districts\",\n",
    "                        width= 600, height=650,color_discrete_sequence=px.colors.sequential.Aggrnyl)\n",
    "    fig_bar_df1.show()\n",
    "\n",
    "    #plot 2\n",
    "    query2 = f'''SELECT districts, SUM(RegisteredUsers) AS RegisteredUsers\n",
    "                FROM {table_name}\n",
    "                WHERE states= '{state}'\n",
    "                GROUP BY districts\n",
    "                ORDER BY RegisteredUsers\n",
    "                LIMIT 10;\n",
    "             '''\n",
    "\n",
    "    connect_data.execute(query2)\n",
    "    table = connect_data.fetchall()\n",
    "    connection.commit()\n",
    "\n",
    "    df_2 = pd.DataFrame(table,columns=(\"districts\",\"RegisteredUsers\"))\n",
    "\n",
    "    fig_bar_df2= px.bar(df_2, x=\"districts\", y= \"RegisteredUsers\",title=\"LAST 10 REGISTERED USER\",hover_name=\"districts\",\n",
    "                        width= 600, height=650,color_discrete_sequence=px.colors.sequential.Aggrnyl_r)\n",
    "    fig_bar_df2.show()\n",
    "\n",
    "    #plot 3\n",
    "    query3 = f'''SELECT districts, AVG(RegisteredUsers) AS RegisteredUsers\n",
    "                FROM {table_name}\n",
    "                WHERE states= '{state}'\n",
    "                GROUP BY districts\n",
    "                ORDER BY RegisteredUsers;\n",
    "             '''\n",
    "\n",
    "    connect_data.execute(query3)\n",
    "    table = connect_data.fetchall()\n",
    "    connection.commit()\n",
    "\n",
    "    df_3 = pd.DataFrame(table,columns=(\"districts\",\"RegisteredUsers\"))\n",
    "\n",
    "    fig_bar_df3= px.bar(df_3, x=\"districts\", y= \"RegisteredUsers\",title=\"AVERAGE REGISTERED USER\",hover_name=\"districts\",\n",
    "                        width= 600, height=650,color_discrete_sequence=px.colors.sequential.Blues_r)\n",
    "    fig_bar_df3.show()\n",
    "\n"
   ]
  },
  {
   "cell_type": "code",
   "execution_count": null,
   "metadata": {},
   "outputs": [],
   "source": [
    "top_chart_register_user(\"map_user\",\"Tamil Nadu\")"
   ]
  },
  {
   "cell_type": "code",
   "execution_count": 89,
   "metadata": {},
   "outputs": [],
   "source": [
    "def top_chart_appopens(table_name,state):\n",
    "    #mysql connection\n",
    "    connection = pymysql.connect(\n",
    "                host=\"localhost\",\n",
    "                user=\"root\",\n",
    "                password=\"adhi\",\n",
    "                database=\"phonepe\")\n",
    "\n",
    "\n",
    "    connect_data=connection.cursor()\n",
    "\n",
    "    #plot1\n",
    "    query1 = f'''SELECT districts, SUM(AppOpens) AS AppOpens\n",
    "                FROM {table_name}\n",
    "                WHERE states='{state}'\n",
    "                GROUP BY districts\n",
    "                ORDER BY AppOpens DESC\n",
    "                LIMIT 10;\n",
    "             '''\n",
    "\n",
    "    connect_data.execute(query1)\n",
    "    table = connect_data.fetchall()\n",
    "    connection.commit()\n",
    "\n",
    "    df_1 = pd.DataFrame(table,columns=(\"districts\",\"AppOpens\"))\n",
    "\n",
    "    fig_bar_df1= px.bar(df_1, x=\"districts\", y= \"AppOpens\",title=\"TOP 10 APPOPENS USER\",hover_name=\"districts\",\n",
    "                        width= 600, height=650,color_discrete_sequence=px.colors.sequential.Aggrnyl)\n",
    "    fig_bar_df1.show()\n",
    "\n",
    "    #plot 2\n",
    "    query2 = f'''SELECT districts, SUM(AppOpens) AS AppOpens\n",
    "                FROM {table_name}\n",
    "                WHERE states= '{state}'\n",
    "                GROUP BY districts\n",
    "                ORDER BY AppOpens\n",
    "                LIMIT 10;\n",
    "             '''\n",
    "\n",
    "    connect_data.execute(query2)\n",
    "    table = connect_data.fetchall()\n",
    "    connection.commit()\n",
    "\n",
    "    df_2 = pd.DataFrame(table,columns=(\"districts\",\"AppOpens\"))\n",
    "\n",
    "    fig_bar_df2= px.bar(df_2, x=\"districts\", y= \"AppOpens\",title=\"LAST 10 APPOPENS USER\",hover_name=\"districts\",\n",
    "                        width= 600, height=650,color_discrete_sequence=px.colors.sequential.Aggrnyl_r)\n",
    "    fig_bar_df2.show()\n",
    "\n",
    "    #plot 3\n",
    "    query3 = f'''SELECT districts, AVG(AppOpens) AS AppOpens\n",
    "                FROM {table_name}\n",
    "                WHERE states= '{state}'\n",
    "                GROUP BY districts\n",
    "                ORDER BY AppOpens;\n",
    "             '''\n",
    "\n",
    "    connect_data.execute(query3)\n",
    "    table = connect_data.fetchall()\n",
    "    connection.commit()\n",
    "\n",
    "    df_3 = pd.DataFrame(table,columns=(\"districts\",\"AppOpens\"))\n",
    "\n",
    "    fig_bar_df3= px.bar(df_3, x=\"districts\", y= \"AppOpens\",title=\"AVERAGE APPOPENS USER\",hover_name=\"districts\",\n",
    "                        width= 600, height=650,color_discrete_sequence=px.colors.sequential.Blues_r)\n",
    "    fig_bar_df3.show()\n"
   ]
  },
  {
   "cell_type": "code",
   "execution_count": null,
   "metadata": {},
   "outputs": [],
   "source": [
    "top_chart_appopens(\"map_user\",\"Tamil Nadu\")"
   ]
  },
  {
   "cell_type": "code",
   "execution_count": 91,
   "metadata": {},
   "outputs": [],
   "source": [
    "def top_chart_top_register_users(table_name):\n",
    "    #mysql connection\n",
    "    connection = pymysql.connect(\n",
    "                host=\"localhost\",\n",
    "                user=\"root\",\n",
    "                password=\"adhi\",\n",
    "                database=\"phonepe\")\n",
    "\n",
    "    connect_data=connection.cursor()\n",
    "\n",
    "    #plot1\n",
    "    query1 = f'''SELECT states, SUM(RegisteredUsers) AS RegisteredUsers\n",
    "                FROM {table_name}\n",
    "                GROUP BY states\n",
    "                ORDER BY RegisteredUsers DESC\n",
    "                LIMIT 10;\n",
    "             '''\n",
    "\n",
    "    connect_data.execute(query1)\n",
    "    table = connect_data.fetchall()\n",
    "    connection.commit()\n",
    "\n",
    "    df_1 = pd.DataFrame(table,columns=(\"states\",\"RegisteredUsers\"))\n",
    "\n",
    "    fig_bar_df1= px.bar(df_1, x=\"states\", y= \"RegisteredUsers\",title=\"TOP 10 REGISTERED USER\",hover_name=\"states\",\n",
    "                        width= 600, height=650,color_discrete_sequence=px.colors.sequential.Aggrnyl)\n",
    "    fig_bar_df1.show()\n",
    "\n",
    "    #plot 2\n",
    "    query2 = f'''SELECT states, SUM(RegisteredUsers) AS RegisteredUsers\n",
    "                FROM {table_name}\n",
    "                GROUP BY states\n",
    "                ORDER BY RegisteredUsers \n",
    "                LIMIT 10;\n",
    "             '''\n",
    "\n",
    "    connect_data.execute(query2)\n",
    "    table = connect_data.fetchall()\n",
    "    connection.commit()\n",
    "\n",
    "    df_2 = pd.DataFrame(table,columns=(\"states\",\"RegisteredUsers\"))\n",
    "\n",
    "    fig_bar_df2= px.bar(df_2, x=\"states\", y= \"RegisteredUsers\",title=\"LAST 10 REGISTERED USER\",hover_name=\"states\",\n",
    "                        width= 600, height=650,color_discrete_sequence=px.colors.sequential.Aggrnyl_r)\n",
    "    fig_bar_df2.show()\n",
    "\n",
    "    #plot 3\n",
    "    query3 = f'''SELECT states, AVG(RegisteredUsers) AS RegisteredUsers\n",
    "                FROM {table_name}\n",
    "                GROUP BY states\n",
    "                ORDER BY RegisteredUsers;\n",
    "             '''\n",
    "\n",
    "    connect_data.execute(query3)\n",
    "    table = connect_data.fetchall()\n",
    "    connection.commit()\n",
    "\n",
    "    df_3 = pd.DataFrame(table,columns=(\"states\",\"RegisteredUsers\"))\n",
    "\n",
    "    fig_bar_df3= px.bar(df_3, x=\"states\", y= \"RegisteredUsers\",title=\"AVERAGE REGISTERED USER\",hover_name=\"states\",\n",
    "                        width= 600, height=650,color_discrete_sequence=px.colors.sequential.Blues_r)\n",
    "    fig_bar_df3.show()\n"
   ]
  },
  {
   "cell_type": "code",
   "execution_count": null,
   "metadata": {},
   "outputs": [],
   "source": [
    "top_chart_top_register_users(\"top_user\")"
   ]
  },
  {
   "cell_type": "code",
   "execution_count": null,
   "metadata": {},
   "outputs": [],
   "source": []
  }
 ],
 "metadata": {
  "kernelspec": {
   "display_name": "Python 3",
   "language": "python",
   "name": "python3"
  },
  "language_info": {
   "codemirror_mode": {
    "name": "ipython",
    "version": 3
   },
   "file_extension": ".py",
   "mimetype": "text/x-python",
   "name": "python",
   "nbconvert_exporter": "python",
   "pygments_lexer": "ipython3",
   "version": "3.11.5"
  }
 },
 "nbformat": 4,
 "nbformat_minor": 2
}
